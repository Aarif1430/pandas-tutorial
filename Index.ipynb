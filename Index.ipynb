{
 "cells": [
  {
   "cell_type": "markdown",
   "metadata": {},
   "source": [
    "<CENTER>\n",
    "  <header>\n",
    "    <h1>Pandas Tutorial</h1>\n",
    "    <h3>EuroScipy, Cambridge UK, August 27th, 2015</h3>\n",
    "    <h2>Joris Van den Bossche</h2>\n",
    "    <p></p>\n",
    "Source: <a href=\"https://github.com/jorisvandenbossche/2015-EuroScipy-pandas-tutorial\">https://github.com/jorisvandenbossche/2015-EuroScipy-pandas-tutorial</a>\n",
    "  </header>\n",
    "</CENTER>"
   ]
  },
  {
   "cell_type": "code",
   "execution_count": 2,
   "metadata": {
    "collapsed": false
   },
   "outputs": [],
   "source": [
    "x='string'"
   ]
  },
  {
   "cell_type": "code",
   "execution_count": 3,
   "metadata": {
    "collapsed": true
   },
   "outputs": [],
   "source": [
    "x.capitalize?"
   ]
  },
  {
   "cell_type": "markdown",
   "metadata": {},
   "source": [
    "Two data files are not included in the repo, you can downloead them from: [`titles.csv`](https://drive.google.com/file/d/0B3G70MlBnCgKa0U4WFdWdGdVOFU/view?usp=sharing) and [`cast.csv`](https://drive.google.com/file/d/0B3G70MlBnCgKRzRmTWdQTUdjNnM/view?usp=sharing) and put them in the `/data` folder."
   ]
  },
  {
   "cell_type": "markdown",
   "metadata": {},
   "source": [
    "## Requirements to run this tutorial"
   ]
  },
  {
   "cell_type": "markdown",
   "metadata": {},
   "source": [
    "To follow this tutorial you need to have the following packages installed:\n",
    "\n",
    "- Python version 2.6-2.7 or 3.3-3.4\n",
    "- `pandas` version 0.15.2 or later: http://pandas.pydata.org/\n",
    "- `numpy` version 1.7 or later: http://www.numpy.org/\n",
    "- `matplotlib` version 1.3 or later: http://matplotlib.org/\n",
    "- `ipython` version 3.x with notebook support, or `ipython 4.x` combined with `jupyter`: http://ipython.org\n",
    "- `seaborn` (this is used for some plotting, but not necessary to follow the tutorial): http://stanford.edu/~mwaskom/software/seaborn/\n"
   ]
  },
  {
   "cell_type": "markdown",
   "metadata": {},
   "source": [
    "## Downloading the tutorial materials"
   ]
  },
  {
   "cell_type": "markdown",
   "metadata": {
    "collapsed": true
   },
   "source": [
    "If you have git installed, you can get the material in this tutorial by cloning this repo:\n",
    "\n",
    "    git clone https://github.com/jorisvandenbossche/2015-EuroScipy-pandas-tutorial.git\n",
    "\n",
    "As an alternative, you can download it as a zip file:\n",
    "https://github.com/jorisvandenbossche/2015-EuroScipy-pandas-tutorial/archive/master.zip.\n",
    "I will probably make some changes until the start of the tutorial, so best to download\n",
    "the latest version then (or do a `git pull` if you are using git)."
   ]
  },
  {
   "cell_type": "markdown",
   "metadata": {},
   "source": [
    "## Contents\n",
    "\n",
    "- [01 - Introduction.ipynb](01 - Introduction.ipynb)\n",
    "- [02 - Data structures](02 - Data structures.ipynb)\n",
    "- [03 - Indexing and selecting data](03 - Indexing and selecting data.ipynb)\n",
    "- [03b - Some more advanced indexing](03b - Some more advanced indexing.ipynb)\n",
    "- [04 - Groupby operations](04 - Groupby operations.ipynb)\n",
    "- [05 - Time series data](05 - Time series data.ipynb)\n",
    "- [06 - Reshaping data](06 - Reshaping data.ipynb)\n"
   ]
  }
 ],
 "metadata": {
  "kernelspec": {
   "display_name": "Python 3",
   "language": "python",
   "name": "python3"
  },
  "language_info": {
   "codemirror_mode": {
    "name": "ipython",
    "version": 3
   },
   "file_extension": ".py",
   "mimetype": "text/x-python",
   "name": "python",
   "nbconvert_exporter": "python",
   "pygments_lexer": "ipython3",
   "version": "3.4.3"
  }
 },
 "nbformat": 4,
 "nbformat_minor": 0
}
